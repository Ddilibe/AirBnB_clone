{
 "cells": [
  {
   "cell_type": "code",
   "execution_count": 2,
   "id": "396bdb3a",
   "metadata": {},
   "outputs": [],
   "source": [
    "import re"
   ]
  },
  {
   "cell_type": "code",
   "execution_count": 95,
   "id": "76121cb9",
   "metadata": {},
   "outputs": [],
   "source": [
    "def bracket(s: str) -> bool:\n",
    "#     pattern = r'[A-Za-z0-9._%+-]+@[A-Za-z0-9.-]+\\.[A-Z|a-z]{2,}'\n",
    "#     pattern = r'[a-zA-Z]+.^(+[A-Za-z0-9{},-_]+)$'\n",
    "    pattern = r'[A-Za-z]+\\.[a-z]+\\([A-Za-z,\\'\\'+\\.{}]+\\)'\n",
    "    if re.fullmatch(pattern, s) is None:\n",
    "        print(f'The {s} is not a valid command')\n",
    "        return \n",
    "    return True"
   ]
  },
  {
   "cell_type": "code",
   "execution_count": 96,
   "id": "31cc6e50",
   "metadata": {},
   "outputs": [
    {
     "name": "stdout",
     "output_type": "stream",
     "text": [
      "The User.Mll(wecw,eccccw{}''c) is not a valid command\n"
     ]
    }
   ],
   "source": [
    "bracket(\"User.ll(wecw,eccccw{}''c)\")"
   ]
  },
  {
   "cell_type": "code",
   "execution_count": null,
   "id": "61e102a3",
   "metadata": {},
   "outputs": [],
   "source": []
  },
  {
   "cell_type": "code",
   "execution_count": null,
   "id": "fe7ef146",
   "metadata": {},
   "outputs": [],
   "source": []
  },
  {
   "cell_type": "code",
   "execution_count": null,
   "id": "c0eda044",
   "metadata": {},
   "outputs": [],
   "source": []
  },
  {
   "cell_type": "code",
   "execution_count": null,
   "id": "e146f36d",
   "metadata": {},
   "outputs": [],
   "source": []
  }
 ],
 "metadata": {
  "kernelspec": {
   "display_name": "Python 3 (ipykernel)",
   "language": "python",
   "name": "python3"
  },
  "language_info": {
   "codemirror_mode": {
    "name": "ipython",
    "version": 3
   },
   "file_extension": ".py",
   "mimetype": "text/x-python",
   "name": "python",
   "nbconvert_exporter": "python",
   "pygments_lexer": "ipython3",
   "version": "3.9.2"
  }
 },
 "nbformat": 4,
 "nbformat_minor": 5
}
